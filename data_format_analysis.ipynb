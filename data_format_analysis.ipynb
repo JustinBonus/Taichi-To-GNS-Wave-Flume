{
 "cells": [
  {
   "cell_type": "code",
   "execution_count": 123,
   "id": "b5176eb6-dd77-482c-a116-75d94113cbaf",
   "metadata": {},
   "outputs": [
    {
     "name": "stdout",
     "output_type": "stream",
     "text": [
      "[0. 0.]\n"
     ]
    }
   ],
   "source": [
    "import numpy as np\n",
    "\n",
    "def load_npz_data(path):\n",
    "    \"\"\"Load data stored in npz format.\n",
    "\n",
    "    The file format for Python 3.9 or less supports ragged arrays and Python 3.10\n",
    "    requires a structured array. This function supports both formats.\n",
    "\n",
    "    Args:\n",
    "        path (str): Path to npz file.\n",
    "\n",
    "    Returns:\n",
    "        data (list): List of tuples of the form (positions, particle_type).\n",
    "    \"\"\"\n",
    "    with np.load(path, allow_pickle=True) as data_file:\n",
    "        if 'gns_data' in data_file:\n",
    "            data = data_file['gns_data']\n",
    "        else:\n",
    "            data = [item for _, item in data_file.items()]\n",
    "    return data\n",
    "b = load_npz_data(\"/Users/treygower/code-REU/Physics-Informed-ML/unspecified_sim_data.npz\")\n",
    "\n",
    "print(b[0][0][19][9000])"
   ]
  },
  {
   "cell_type": "code",
   "execution_count": 124,
   "id": "a6ac70ec-1120-45a9-8fd5-455a64c5b259",
   "metadata": {},
   "outputs": [
    {
     "name": "stdout",
     "output_type": "stream",
     "text": [
      "[0.6429752  0.32091197]\n"
     ]
    }
   ],
   "source": [
    "def load_npz_data(path):\n",
    "    \"\"\"Load data stored in npz format.\n",
    "\n",
    "    The file format for Python 3.9 or less supports ragged arrays and Python 3.10\n",
    "    requires a structured array. This function supports both formats.\n",
    "\n",
    "    Args:\n",
    "        path (str): Path to npz file.\n",
    "\n",
    "    Returns:\n",
    "        data (list): List of tuples of the form (positions, particle_type).\n",
    "    \"\"\"\n",
    "    with np.load(path, allow_pickle=True) as data_file:\n",
    "        if 'gns_data' in data_file:\n",
    "            data = data_file['gns_data']\n",
    "        else:\n",
    "            data = [item for _, item in data_file.items()]\n",
    "    return data\n",
    "x = load_npz_data('/Users/treygower/Downloads/test.npz')\n",
    "print(x[0][0][3][3])"
   ]
  },
  {
   "cell_type": "code",
   "execution_count": 125,
   "id": "9491fd59-6dbc-4b7e-8cb8-167785a88195",
   "metadata": {},
   "outputs": [
    {
     "ename": "FileNotFoundError",
     "evalue": "[Errno 2] No such file or directory: './dataset/metadata.json'",
     "output_type": "error",
     "traceback": [
      "\u001b[0;31m---------------------------------------------------------------------------\u001b[0m",
      "\u001b[0;31mFileNotFoundError\u001b[0m                         Traceback (most recent call last)",
      "Cell \u001b[0;32mIn[125], line 2\u001b[0m\n\u001b[1;32m      1\u001b[0m \u001b[38;5;28;01mimport\u001b[39;00m \u001b[38;5;21;01mjson\u001b[39;00m\n\u001b[0;32m----> 2\u001b[0m \u001b[38;5;28;01mwith\u001b[39;00m \u001b[38;5;28mopen\u001b[39m(\u001b[38;5;124m'\u001b[39m\u001b[38;5;124m./dataset/metadata.json\u001b[39m\u001b[38;5;124m'\u001b[39m) \u001b[38;5;28;01mas\u001b[39;00m f:\n\u001b[1;32m      3\u001b[0m     data \u001b[38;5;241m=\u001b[39m json\u001b[38;5;241m.\u001b[39mload(f)\n\u001b[1;32m      4\u001b[0m     \u001b[38;5;28mprint\u001b[39m(data)\n",
      "File \u001b[0;32m/opt/anaconda3/lib/python3.11/site-packages/IPython/core/interactiveshell.py:310\u001b[0m, in \u001b[0;36m_modified_open\u001b[0;34m(file, *args, **kwargs)\u001b[0m\n\u001b[1;32m    303\u001b[0m \u001b[38;5;28;01mif\u001b[39;00m file \u001b[38;5;129;01min\u001b[39;00m {\u001b[38;5;241m0\u001b[39m, \u001b[38;5;241m1\u001b[39m, \u001b[38;5;241m2\u001b[39m}:\n\u001b[1;32m    304\u001b[0m     \u001b[38;5;28;01mraise\u001b[39;00m \u001b[38;5;167;01mValueError\u001b[39;00m(\n\u001b[1;32m    305\u001b[0m         \u001b[38;5;124mf\u001b[39m\u001b[38;5;124m\"\u001b[39m\u001b[38;5;124mIPython won\u001b[39m\u001b[38;5;124m'\u001b[39m\u001b[38;5;124mt let you open fd=\u001b[39m\u001b[38;5;132;01m{\u001b[39;00mfile\u001b[38;5;132;01m}\u001b[39;00m\u001b[38;5;124m by default \u001b[39m\u001b[38;5;124m\"\u001b[39m\n\u001b[1;32m    306\u001b[0m         \u001b[38;5;124m\"\u001b[39m\u001b[38;5;124mas it is likely to crash IPython. If you know what you are doing, \u001b[39m\u001b[38;5;124m\"\u001b[39m\n\u001b[1;32m    307\u001b[0m         \u001b[38;5;124m\"\u001b[39m\u001b[38;5;124myou can use builtins\u001b[39m\u001b[38;5;124m'\u001b[39m\u001b[38;5;124m open.\u001b[39m\u001b[38;5;124m\"\u001b[39m\n\u001b[1;32m    308\u001b[0m     )\n\u001b[0;32m--> 310\u001b[0m \u001b[38;5;28;01mreturn\u001b[39;00m io_open(file, \u001b[38;5;241m*\u001b[39margs, \u001b[38;5;241m*\u001b[39m\u001b[38;5;241m*\u001b[39mkwargs)\n",
      "\u001b[0;31mFileNotFoundError\u001b[0m: [Errno 2] No such file or directory: './dataset/metadata.json'"
     ]
    }
   ],
   "source": [
    "import json\n",
    "with open('./dataset/metadata.json') as f:\n",
    "    data = json.load(f)\n",
    "    print(data)"
   ]
  },
  {
   "cell_type": "code",
   "execution_count": null,
   "id": "202bc5dd-fccc-4492-939b-ebd0c42beda0",
   "metadata": {},
   "outputs": [
    {
     "name": "stdout",
     "output_type": "stream",
     "text": [
      "{'bounds': [[0.1, 0.9], [0.1, 0.9]], 'sequence_length': 1000, 'default_connectivity_radius': 0.015, 'dim': 2, 'dt': 0.0025, 'vel_mean': [-3.964619574176163e-05, -0.00026272129664401046], 'vel_std': [0.0013722809722366911, 0.0013119977252142715], 'acc_mean': [2.602686518497945e-08, 1.0721623948191945e-07], 'acc_std': [6.742962470925277e-05, 8.700719180424815e-05]}\n"
     ]
    }
   ],
   "source": [
    "import json\n",
    "with open('/Users/treygower/Downloads/metadata.json') as f:\n",
    "    data = json.load(f)\n",
    "    print(data)"
   ]
  }
 ],
 "metadata": {
  "kernelspec": {
   "display_name": "Python 3 (ipykernel)",
   "language": "python",
   "name": "python3"
  },
  "language_info": {
   "codemirror_mode": {
    "name": "ipython",
    "version": 3
   },
   "file_extension": ".py",
   "mimetype": "text/x-python",
   "name": "python",
   "nbconvert_exporter": "python",
   "pygments_lexer": "ipython3",
   "version": "3.11.7"
  }
 },
 "nbformat": 4,
 "nbformat_minor": 5
}
