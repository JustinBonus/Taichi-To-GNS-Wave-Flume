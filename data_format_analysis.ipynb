{
 "cells": [
  {
   "cell_type": "code",
   "execution_count": 271,
   "id": "e54c1091-c012-4e52-a463-70e9bb42a63a",
   "metadata": {
    "scrolled": true
   },
   "outputs": [
    {
     "name": "stdout",
     "output_type": "stream",
     "text": [
      "1599\n"
     ]
    }
   ],
   "source": [
    "import numpy\n",
    "b = numpy.load('simulation_data.npz', allow_pickle=True)\n",
    "print(b.files)"
   ]
  },
  {
   "cell_type": "code",
   "execution_count": 191,
   "id": "7c84e75f-5393-418f-8832-2ec0daf29ac5",
   "metadata": {},
   "outputs": [
    {
     "name": "stdout",
     "output_type": "stream",
     "text": [
      "(1730,)\n"
     ]
    }
   ],
   "source": [
    "b = numpy.load('test.npz', allow_pickle=True)\n",
    "print(b['simulation_trajectory_0'][1].shape)"
   ]
  },
  {
   "cell_type": "code",
   "execution_count": 259,
   "id": "c46ff364-213c-4b26-b2a8-95ec60f676a9",
   "metadata": {},
   "outputs": [
    {
     "name": "stdout",
     "output_type": "stream",
     "text": [
      "(320, 1471, 2)\n"
     ]
    }
   ],
   "source": [
    "b = numpy.load('test.npz', allow_pickle=True)\n",
    "print(b['simulation_trajectory_1'][0].shape)"
   ]
  },
  {
   "cell_type": "code",
   "execution_count": 219,
   "id": "cefe6804-d85a-45f3-8560-b1c21db14831",
   "metadata": {},
   "outputs": [
    {
     "name": "stdout",
     "output_type": "stream",
     "text": [
      "(1000, 295, 2)\n"
     ]
    }
   ],
   "source": [
    "b = numpy.load('test1.npz', allow_pickle=True)\n",
    "#key [0] is the positional data of shape below key [1] is the corresponding array of 5's of length (295,)\n",
    "print(b['simulation_trajectory_0'][0].shape)\n",
    "#I assume 1000 is number of steps "
   ]
  }
 ],
 "metadata": {
  "kernelspec": {
   "display_name": "Python 3 (ipykernel)",
   "language": "python",
   "name": "python3"
  },
  "language_info": {
   "codemirror_mode": {
    "name": "ipython",
    "version": 3
   },
   "file_extension": ".py",
   "mimetype": "text/x-python",
   "name": "python",
   "nbconvert_exporter": "python",
   "pygments_lexer": "ipython3",
   "version": "3.11.7"
  }
 },
 "nbformat": 4,
 "nbformat_minor": 5
}
