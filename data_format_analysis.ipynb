{
 "cells": [
  {
   "cell_type": "code",
   "execution_count": 1,
   "id": "b5176eb6-dd77-482c-a116-75d94113cbaf",
   "metadata": {},
   "outputs": [
    {
     "name": "stdout",
     "output_type": "stream",
     "text": [
      "(211, 6144, 2)\n"
     ]
    }
   ],
   "source": [
    "import numpy as np\n",
    "\n",
    "def load_npz_data(path):\n",
    "    \"\"\"Load data stored in npz format.\n",
    "\n",
    "    The file format for Python 3.9 or less supports ragged arrays and Python 3.10\n",
    "    requires a structured array. This function supports both formats.\n",
    "\n",
    "    Args:\n",
    "        path (str): Path to npz file.\n",
    "\n",
    "    Returns:\n",
    "        data (list): List of tuples of the form (positions, particle_type).\n",
    "    \"\"\"\n",
    "    with np.load(path, allow_pickle=True) as data_file:\n",
    "        if 'gns_data' in data_file:\n",
    "            data = data_file['gns_data']\n",
    "        else:\n",
    "            data = [item for _, item in data_file.items()]\n",
    "    return data\n",
    "b = load_npz_data(\"./dataset/train.npz\")\n",
    "\n",
    "print(b[0][0].shape)"
   ]
  },
  {
   "cell_type": "code",
   "execution_count": 8,
   "id": "a6ac70ec-1120-45a9-8fd5-455a64c5b259",
   "metadata": {},
   "outputs": [
    {
     "name": "stdout",
     "output_type": "stream",
     "text": [
      "[array([[[0.65348333, 0.3366845 ],\n",
      "         [0.65415716, 0.3229508 ],\n",
      "         [0.6528629 , 0.3064468 ],\n",
      "         ...,\n",
      "         [0.6032004 , 0.203077  ],\n",
      "         [0.6489395 , 0.45497558],\n",
      "         [0.5779556 , 0.47371852]],\n",
      "\n",
      "        [[0.65348333, 0.33659106],\n",
      "         [0.65415716, 0.32285747],\n",
      "         [0.6528629 , 0.30635348],\n",
      "         ...,\n",
      "         [0.6032004 , 0.20298368],\n",
      "         [0.6489395 , 0.4548821 ],\n",
      "         [0.5779556 , 0.47362506]],\n",
      "\n",
      "        [[0.65348333, 0.3364364 ],\n",
      "         [0.65415716, 0.32270283],\n",
      "         [0.6528629 , 0.30619895],\n",
      "         ...,\n",
      "         [0.6032004 , 0.20282905],\n",
      "         [0.6489395 , 0.45472723],\n",
      "         [0.5779556 , 0.47347033]],\n",
      "\n",
      "        ...,\n",
      "\n",
      "        [[0.8152361 , 0.10710638],\n",
      "         [0.8010312 , 0.1060667 ],\n",
      "         [0.8327564 , 0.10686205],\n",
      "         ...,\n",
      "         [0.56442374, 0.09820116],\n",
      "         [0.50549334, 0.11086477],\n",
      "         [0.4243241 , 0.1144923 ]],\n",
      "\n",
      "        [[0.8151884 , 0.10710894],\n",
      "         [0.8009922 , 0.10606938],\n",
      "         [0.8327087 , 0.10685946],\n",
      "         ...,\n",
      "         [0.5647009 , 0.09820149],\n",
      "         [0.5061179 , 0.11087445],\n",
      "         [0.42501888, 0.11448085]],\n",
      "\n",
      "        [[0.81514347, 0.10711136],\n",
      "         [0.80095625, 0.10607237],\n",
      "         [0.8326624 , 0.10685704],\n",
      "         ...,\n",
      "         [0.56497234, 0.09820182],\n",
      "         [0.5067387 , 0.11088573],\n",
      "         [0.42571098, 0.11446922]]], dtype=float32)\n",
      " array([5, 5, 5, 5, 5, 5, 5, 5, 5, 5, 5, 5, 5, 5, 5, 5, 5, 5, 5, 5, 5, 5,\n",
      "        5, 5, 5, 5, 5, 5, 5, 5, 5, 5, 5, 5, 5, 5, 5, 5, 5, 5, 5, 5, 5, 5,\n",
      "        5, 5, 5, 5, 5, 5, 5, 5, 5, 5, 5, 5, 5, 5, 5, 5, 5, 5, 5, 5, 5, 5,\n",
      "        5, 5, 5, 5, 5, 5, 5, 5, 5, 5, 5, 5, 5, 5, 5, 5, 5, 5, 5, 5, 5, 5,\n",
      "        5, 5, 5, 5, 5, 5, 5, 5, 5, 5, 5, 5, 5, 5, 5, 5, 5, 5, 5, 5, 5, 5,\n",
      "        5, 5, 5, 5, 5, 5, 5, 5, 5, 5, 5, 5, 5, 5, 5, 5, 5, 5, 5, 5, 5, 5,\n",
      "        5, 5, 5, 5, 5, 5, 5, 5, 5, 5, 5, 5, 5, 5, 5, 5, 5, 5, 5, 5, 5, 5,\n",
      "        5, 5, 5, 5, 5, 5, 5, 5, 5, 5, 5, 5, 5, 5, 5, 5, 5, 5, 5, 5, 5, 5,\n",
      "        5, 5, 5, 5, 5, 5, 5, 5, 5, 5, 5, 5, 5, 5, 5, 5, 5, 5, 5, 5, 5, 5,\n",
      "        5, 5, 5, 5, 5, 5, 5, 5, 5, 5, 5, 5, 5, 5, 5, 5, 5, 5, 5, 5, 5, 5,\n",
      "        5, 5, 5, 5, 5, 5, 5, 5, 5, 5, 5, 5, 5, 5, 5, 5, 5, 5, 5, 5, 5, 5,\n",
      "        5, 5, 5, 5, 5, 5, 5, 5, 5, 5, 5, 5, 5, 5, 5, 5, 5, 5, 5, 5, 5, 5,\n",
      "        5, 5, 5, 5, 5, 5, 5, 5, 5, 5, 5, 5, 5, 5, 5, 5, 5, 5, 5, 5, 5, 5,\n",
      "        5, 5, 5, 5, 5, 5, 5, 5, 5])                                      ]\n"
     ]
    }
   ],
   "source": [
    "def load_npz_data(path):\n",
    "    \"\"\"Load data stored in npz format.\n",
    "\n",
    "    The file format for Python 3.9 or less supports ragged arrays and Python 3.10\n",
    "    requires a structured array. This function supports both formats.\n",
    "\n",
    "    Args:\n",
    "        path (str): Path to npz file.\n",
    "\n",
    "    Returns:\n",
    "        data (list): List of tuples of the form (positions, particle_type).\n",
    "    \"\"\"\n",
    "    with np.load(path, allow_pickle=True) as data_file:\n",
    "        if 'gns_data' in data_file:\n",
    "            data = data_file['gns_data']\n",
    "        else:\n",
    "            data = [item for _, item in data_file.items()]\n",
    "    return data\n",
    "x = load_npz_data('/Users/treygower/Downloads/test.npz')\n",
    "print(x[0])"
   ]
  },
  {
   "cell_type": "code",
   "execution_count": 9,
   "id": "9491fd59-6dbc-4b7e-8cb8-167785a88195",
   "metadata": {},
   "outputs": [
    {
     "name": "stdout",
     "output_type": "stream",
     "text": [
      "{'bounds': [[0.1, 0.9], [0.1, 0.9]], 'sequence_length': 500, 'default_connectivity_radius': 0.5, 'dim': 2, 'dt': 0.0025, 'vel_mean': [0.1024371087551117, -0.003584294579923153], 'vel_std': [0.4090859591960907, 0.10193043947219849], 'acc_mean': [7.794268458383158e-05, 0.0011650924570858479], 'acc_std': [0.03317539766430855, 0.10752912610769272]}\n"
     ]
    }
   ],
   "source": [
    "import json\n",
    "with open('./dataset/metadata.json') as f:\n",
    "    data = json.load(f)\n",
    "    print(data)"
   ]
  },
  {
   "cell_type": "code",
   "execution_count": 10,
   "id": "202bc5dd-fccc-4492-939b-ebd0c42beda0",
   "metadata": {},
   "outputs": [
    {
     "name": "stdout",
     "output_type": "stream",
     "text": [
      "{'bounds': [[0.1, 0.9], [0.1, 0.9]], 'sequence_length': 1000, 'default_connectivity_radius': 0.015, 'dim': 2, 'dt': 0.0025, 'vel_mean': [-3.964619574176163e-05, -0.00026272129664401046], 'vel_std': [0.0013722809722366911, 0.0013119977252142715], 'acc_mean': [2.602686518497945e-08, 1.0721623948191945e-07], 'acc_std': [6.742962470925277e-05, 8.700719180424815e-05]}\n"
     ]
    }
   ],
   "source": [
    "import json\n",
    "with open('/Users/treygower/Downloads/metadata.json') as f:\n",
    "    data = json.load(f)\n",
    "    print(data)"
   ]
  }
 ],
 "metadata": {
  "kernelspec": {
   "display_name": "Python 3 (ipykernel)",
   "language": "python",
   "name": "python3"
  },
  "language_info": {
   "codemirror_mode": {
    "name": "ipython",
    "version": 3
   },
   "file_extension": ".py",
   "mimetype": "text/x-python",
   "name": "python",
   "nbconvert_exporter": "python",
   "pygments_lexer": "ipython3",
   "version": "3.11.7"
  }
 },
 "nbformat": 4,
 "nbformat_minor": 5
}
