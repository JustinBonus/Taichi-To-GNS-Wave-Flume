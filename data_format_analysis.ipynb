{
 "cells": [
  {
   "cell_type": "code",
   "execution_count": 144,
   "id": "b5176eb6-dd77-482c-a116-75d94113cbaf",
   "metadata": {},
   "outputs": [
    {
     "name": "stdout",
     "output_type": "stream",
     "text": [
      "[array([[[0.31472948, 0.02889876],\n",
      "         [0.24168515, 0.03614315],\n",
      "         [0.19773044, 0.05194408],\n",
      "         ...,\n",
      "         [0.25817704, 0.19948773],\n",
      "         [0.25367543, 0.1994893 ],\n",
      "         [0.246267  , 0.19948356]],\n",
      "\n",
      "        [[0.31667978, 0.02915583],\n",
      "         [0.2436349 , 0.0364002 ],\n",
      "         [0.19967976, 0.05219728],\n",
      "         ...,\n",
      "         [0.26013023, 0.19788106],\n",
      "         [0.25562847, 0.19788277],\n",
      "         [0.24821943, 0.19787502]],\n",
      "\n",
      "        [[0.31862062, 0.02843312],\n",
      "         [0.24560405, 0.03561132],\n",
      "         [0.20161931, 0.05115926],\n",
      "         ...,\n",
      "         [0.26207685, 0.19517587],\n",
      "         [0.25757447, 0.19517794],\n",
      "         [0.25016406, 0.19517301]],\n",
      "\n",
      "        ...,\n",
      "\n",
      "        [[0.45244536, 0.01337048],\n",
      "         [0.37248513, 0.01916395],\n",
      "         [0.3074518 , 0.02088204],\n",
      "         ...,\n",
      "         [0.28995323, 0.0397714 ],\n",
      "         [0.2854567 , 0.04034008],\n",
      "         [0.27805948, 0.04126514]],\n",
      "\n",
      "        [[0.47210962, 0.01277213],\n",
      "         [0.400496  , 0.0224511 ],\n",
      "         [0.3389659 , 0.0148967 ],\n",
      "         ...,\n",
      "         [0.29096225, 0.02669785],\n",
      "         [0.2864904 , 0.02747005],\n",
      "         [0.2791367 , 0.028757  ]],\n",
      "\n",
      "        [[0.49267283, 0.01228321],\n",
      "         [0.4281486 , 0.02529582],\n",
      "         [0.38046983, 0.0177136 ],\n",
      "         ...,\n",
      "         [0.29190075, 0.01585702],\n",
      "         [0.2874579 , 0.01674062],\n",
      "         [0.28016067, 0.01827758]]], dtype=float32)\n",
      " array([5, 5, 5, ..., 1, 1, 1], dtype=int32)]\n"
     ]
    }
   ],
   "source": [
    "import numpy as np\n",
    "\n",
    "def load_npz_data(path):\n",
    "    \"\"\"Load data stored in npz format.\n",
    "\n",
    "    The file format for Python 3.9 or less supports ragged arrays and Python 3.10\n",
    "    requires a structured array. This function supports both formats.\n",
    "\n",
    "    Args:\n",
    "        path (str): Path to npz file.\n",
    "\n",
    "    Returns:\n",
    "        data (list): List of tuples of the form (positions, particle_type).\n",
    "    \"\"\"\n",
    "    with np.load(path, allow_pickle=True) as data_file:\n",
    "        if 'gns_data' in data_file:\n",
    "            data = data_file['gns_data']\n",
    "        else:\n",
    "            data = [item for _, item in data_file.items()]\n",
    "    return data\n",
    "b = load_npz_data(\"./dataset/train.npz\")\n",
    "\n",
    "print(b[0])"
   ]
  },
  {
   "cell_type": "code",
   "execution_count": 142,
   "id": "a6ac70ec-1120-45a9-8fd5-455a64c5b259",
   "metadata": {},
   "outputs": [
    {
     "name": "stdout",
     "output_type": "stream",
     "text": [
      "[array([[[0.65348333, 0.3366845 ],\n",
      "         [0.65415716, 0.3229508 ],\n",
      "         [0.6528629 , 0.3064468 ],\n",
      "         ...,\n",
      "         [0.6032004 , 0.203077  ],\n",
      "         [0.6489395 , 0.45497558],\n",
      "         [0.5779556 , 0.47371852]],\n",
      "\n",
      "        [[0.65348333, 0.33659106],\n",
      "         [0.65415716, 0.32285747],\n",
      "         [0.6528629 , 0.30635348],\n",
      "         ...,\n",
      "         [0.6032004 , 0.20298368],\n",
      "         [0.6489395 , 0.4548821 ],\n",
      "         [0.5779556 , 0.47362506]],\n",
      "\n",
      "        [[0.65348333, 0.3364364 ],\n",
      "         [0.65415716, 0.32270283],\n",
      "         [0.6528629 , 0.30619895],\n",
      "         ...,\n",
      "         [0.6032004 , 0.20282905],\n",
      "         [0.6489395 , 0.45472723],\n",
      "         [0.5779556 , 0.47347033]],\n",
      "\n",
      "        ...,\n",
      "\n",
      "        [[0.8152361 , 0.10710638],\n",
      "         [0.8010312 , 0.1060667 ],\n",
      "         [0.8327564 , 0.10686205],\n",
      "         ...,\n",
      "         [0.56442374, 0.09820116],\n",
      "         [0.50549334, 0.11086477],\n",
      "         [0.4243241 , 0.1144923 ]],\n",
      "\n",
      "        [[0.8151884 , 0.10710894],\n",
      "         [0.8009922 , 0.10606938],\n",
      "         [0.8327087 , 0.10685946],\n",
      "         ...,\n",
      "         [0.5647009 , 0.09820149],\n",
      "         [0.5061179 , 0.11087445],\n",
      "         [0.42501888, 0.11448085]],\n",
      "\n",
      "        [[0.81514347, 0.10711136],\n",
      "         [0.80095625, 0.10607237],\n",
      "         [0.8326624 , 0.10685704],\n",
      "         ...,\n",
      "         [0.56497234, 0.09820182],\n",
      "         [0.5067387 , 0.11088573],\n",
      "         [0.42571098, 0.11446922]]], dtype=float32)\n",
      " array([5, 5, 5, 5, 5, 5, 5, 5, 5, 5, 5, 5, 5, 5, 5, 5, 5, 5, 5, 5, 5, 5,\n",
      "        5, 5, 5, 5, 5, 5, 5, 5, 5, 5, 5, 5, 5, 5, 5, 5, 5, 5, 5, 5, 5, 5,\n",
      "        5, 5, 5, 5, 5, 5, 5, 5, 5, 5, 5, 5, 5, 5, 5, 5, 5, 5, 5, 5, 5, 5,\n",
      "        5, 5, 5, 5, 5, 5, 5, 5, 5, 5, 5, 5, 5, 5, 5, 5, 5, 5, 5, 5, 5, 5,\n",
      "        5, 5, 5, 5, 5, 5, 5, 5, 5, 5, 5, 5, 5, 5, 5, 5, 5, 5, 5, 5, 5, 5,\n",
      "        5, 5, 5, 5, 5, 5, 5, 5, 5, 5, 5, 5, 5, 5, 5, 5, 5, 5, 5, 5, 5, 5,\n",
      "        5, 5, 5, 5, 5, 5, 5, 5, 5, 5, 5, 5, 5, 5, 5, 5, 5, 5, 5, 5, 5, 5,\n",
      "        5, 5, 5, 5, 5, 5, 5, 5, 5, 5, 5, 5, 5, 5, 5, 5, 5, 5, 5, 5, 5, 5,\n",
      "        5, 5, 5, 5, 5, 5, 5, 5, 5, 5, 5, 5, 5, 5, 5, 5, 5, 5, 5, 5, 5, 5,\n",
      "        5, 5, 5, 5, 5, 5, 5, 5, 5, 5, 5, 5, 5, 5, 5, 5, 5, 5, 5, 5, 5, 5,\n",
      "        5, 5, 5, 5, 5, 5, 5, 5, 5, 5, 5, 5, 5, 5, 5, 5, 5, 5, 5, 5, 5, 5,\n",
      "        5, 5, 5, 5, 5, 5, 5, 5, 5, 5, 5, 5, 5, 5, 5, 5, 5, 5, 5, 5, 5, 5,\n",
      "        5, 5, 5, 5, 5, 5, 5, 5, 5, 5, 5, 5, 5, 5, 5, 5, 5, 5, 5, 5, 5, 5,\n",
      "        5, 5, 5, 5, 5, 5, 5, 5, 5])                                      ]\n"
     ]
    }
   ],
   "source": [
    "def load_npz_data(path):\n",
    "    \"\"\"Load data stored in npz format.\n",
    "\n",
    "    The file format for Python 3.9 or less supports ragged arrays and Python 3.10\n",
    "    requires a structured array. This function supports both formats.\n",
    "\n",
    "    Args:\n",
    "        path (str): Path to npz file.\n",
    "\n",
    "    Returns:\n",
    "        data (list): List of tuples of the form (positions, particle_type).\n",
    "    \"\"\"\n",
    "    with np.load(path, allow_pickle=True) as data_file:\n",
    "        if 'gns_data' in data_file:\n",
    "            data = data_file['gns_data']\n",
    "        else:\n",
    "            data = [item for _, item in data_file.items()]\n",
    "    return data\n",
    "x = load_npz_data('/Users/treygower/Downloads/test.npz')\n",
    "print(x[0])"
   ]
  },
  {
   "cell_type": "code",
   "execution_count": 140,
   "id": "9491fd59-6dbc-4b7e-8cb8-167785a88195",
   "metadata": {},
   "outputs": [
    {
     "name": "stdout",
     "output_type": "stream",
     "text": [
      "{'bounds': [[0.1, 0.9], [0.1, 0.9]], 'sequence_length': 20, 'default_connectivity_radius': 0.015, 'dim': 2, 'dt': 0.0025, 'vel_mean': [1.234351634979248, -3.4388396739959717], 'vel_std': [2.100186824798584, 2.5506720542907715], 'acc_mean': [0.03788229823112488, -0.04767540469765663], 'acc_std': [0.570684015750885, 0.8936446309089661]}\n"
     ]
    }
   ],
   "source": [
    "import json\n",
    "with open('./dataset/metadata.json') as f:\n",
    "    data = json.load(f)\n",
    "    print(data)"
   ]
  },
  {
   "cell_type": "code",
   "execution_count": 136,
   "id": "202bc5dd-fccc-4492-939b-ebd0c42beda0",
   "metadata": {},
   "outputs": [
    {
     "name": "stdout",
     "output_type": "stream",
     "text": [
      "{'bounds': [[0.1, 0.9], [0.1, 0.9]], 'sequence_length': 1000, 'default_connectivity_radius': 0.015, 'dim': 2, 'dt': 0.0025, 'vel_mean': [-3.964619574176163e-05, -0.00026272129664401046], 'vel_std': [0.0013722809722366911, 0.0013119977252142715], 'acc_mean': [2.602686518497945e-08, 1.0721623948191945e-07], 'acc_std': [6.742962470925277e-05, 8.700719180424815e-05]}\n"
     ]
    }
   ],
   "source": [
    "import json\n",
    "with open('/Users/treygower/Downloads/metadata.json') as f:\n",
    "    data = json.load(f)\n",
    "    print(data)"
   ]
  }
 ],
 "metadata": {
  "kernelspec": {
   "display_name": "Python 3 (ipykernel)",
   "language": "python",
   "name": "python3"
  },
  "language_info": {
   "codemirror_mode": {
    "name": "ipython",
    "version": 3
   },
   "file_extension": ".py",
   "mimetype": "text/x-python",
   "name": "python",
   "nbconvert_exporter": "python",
   "pygments_lexer": "ipython3",
   "version": "3.11.7"
  }
 },
 "nbformat": 4,
 "nbformat_minor": 5
}
