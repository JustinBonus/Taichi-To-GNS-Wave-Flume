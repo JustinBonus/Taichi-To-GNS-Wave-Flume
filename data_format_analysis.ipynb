{
 "cells": [
  {
   "cell_type": "code",
   "execution_count": 116,
   "id": "b5176eb6-dd77-482c-a116-75d94113cbaf",
   "metadata": {},
   "outputs": [
    {
     "name": "stdout",
     "output_type": "stream",
     "text": [
      "[[[0.02035103 0.00951599]\n",
      "  [0.08510417 0.00983082]\n",
      "  [0.15020834 0.00983104]\n",
      "  ...\n",
      "  [0.8408333  0.05084667]\n",
      "  [0.89083326 0.04108104]\n",
      "  [0.89083326 0.04433625]]\n",
      "\n",
      " [[0.02066132 0.00748192]\n",
      "  [0.08510716 0.00813463]\n",
      "  [0.15020676 0.00813661]\n",
      "  ...\n",
      "  [0.8408333  0.04909983]\n",
      "  [0.89083326 0.0393372 ]\n",
      "  [0.89083326 0.0425923 ]]\n",
      "\n",
      " [[0.02018365 0.00743538]\n",
      "  [0.08508073 0.00870796]\n",
      "  [0.15029716 0.0084305 ]\n",
      "  ...\n",
      "  [0.8408476  0.04827037]\n",
      "  [0.8908525  0.03916828]\n",
      "  [0.890848   0.04242487]]\n",
      "\n",
      " ...\n",
      "\n",
      " [[0.1184219  0.03617111]\n",
      "  [0.18810406 0.00835563]\n",
      "  [0.24975093 0.00681477]\n",
      "  ...\n",
      "  [0.8762963  0.05488819]\n",
      "  [0.9174096  0.05163994]\n",
      "  [0.9170589  0.05487809]]\n",
      "\n",
      " [[0.1184219  0.03622657]\n",
      "  [0.18804109 0.00835683]\n",
      "  [0.24971427 0.00681382]\n",
      "  ...\n",
      "  [0.87510127 0.05510338]\n",
      "  [0.9162498  0.05126937]\n",
      "  [0.9159524  0.05451323]]\n",
      "\n",
      " [[0.1184219  0.03627471]\n",
      "  [0.1879939  0.00835822]\n",
      "  [0.24969202 0.00681271]\n",
      "  ...\n",
      "  [0.87388325 0.05527754]\n",
      "  [0.915118   0.05083797]\n",
      "  [0.91488236 0.05408697]]]\n"
     ]
    }
   ],
   "source": [
    "import numpy as np\n",
    "\n",
    "def load_npz_data(path):\n",
    "    \"\"\"Load data stored in npz format.\n",
    "\n",
    "    The file format for Python 3.9 or less supports ragged arrays and Python 3.10\n",
    "    requires a structured array. This function supports both formats.\n",
    "\n",
    "    Args:\n",
    "        path (str): Path to npz file.\n",
    "\n",
    "    Returns:\n",
    "        data (list): List of tuples of the form (positions, particle_type).\n",
    "    \"\"\"\n",
    "    with np.load(path, allow_pickle=True) as data_file:\n",
    "        if 'gns_data' in data_file:\n",
    "            data = data_file['gns_data']\n",
    "        else:\n",
    "            data = [item for _, item in data_file.items()]\n",
    "    return data\n",
    "b = load_npz_data(\"./dataset/train.npz\")\n",
    "\n",
    "print(b[0][0])"
   ]
  },
  {
   "cell_type": "code",
   "execution_count": 117,
   "id": "a6ac70ec-1120-45a9-8fd5-455a64c5b259",
   "metadata": {},
   "outputs": [
    {
     "name": "stdout",
     "output_type": "stream",
     "text": [
      "[0.6429752  0.32091197]\n"
     ]
    }
   ],
   "source": [
    "def load_npz_data(path):\n",
    "    \"\"\"Load data stored in npz format.\n",
    "\n",
    "    The file format for Python 3.9 or less supports ragged arrays and Python 3.10\n",
    "    requires a structured array. This function supports both formats.\n",
    "\n",
    "    Args:\n",
    "        path (str): Path to npz file.\n",
    "\n",
    "    Returns:\n",
    "        data (list): List of tuples of the form (positions, particle_type).\n",
    "    \"\"\"\n",
    "    with np.load(path, allow_pickle=True) as data_file:\n",
    "        if 'gns_data' in data_file:\n",
    "            data = data_file['gns_data']\n",
    "        else:\n",
    "            data = [item for _, item in data_file.items()]\n",
    "    return data\n",
    "x = load_npz_data('/Users/treygower/Downloads/test.npz')\n",
    "print(x[0][0][3][3])"
   ]
  },
  {
   "cell_type": "code",
   "execution_count": 118,
   "id": "9491fd59-6dbc-4b7e-8cb8-167785a88195",
   "metadata": {},
   "outputs": [
    {
     "name": "stdout",
     "output_type": "stream",
     "text": [
      "{'bounds': [[0.1, 0.9], [0.1, 0.9]], 'sequence_length': 400, 'default_connectivity_radius': 0.5, 'dim': 2, 'dt': 0.0025, 'vel_mean': [0.0988064855337143, -0.0021502282470464706], 'vel_std': [0.3992491364479065, 0.13636784255504608], 'acc_mean': [-0.00023493438493460417, 0.0014494413044303656], 'acc_std': [0.04131137207150459, 0.16048409044742584]}\n"
     ]
    }
   ],
   "source": [
    "import json\n",
    "with open('./dataset/metadata.json') as f:\n",
    "    data = json.load(f)\n",
    "    print(data)"
   ]
  },
  {
   "cell_type": "code",
   "execution_count": 119,
   "id": "202bc5dd-fccc-4492-939b-ebd0c42beda0",
   "metadata": {},
   "outputs": [
    {
     "name": "stdout",
     "output_type": "stream",
     "text": [
      "{'bounds': [[0.1, 0.9], [0.1, 0.9]], 'sequence_length': 1000, 'default_connectivity_radius': 0.015, 'dim': 2, 'dt': 0.0025, 'vel_mean': [-3.964619574176163e-05, -0.00026272129664401046], 'vel_std': [0.0013722809722366911, 0.0013119977252142715], 'acc_mean': [2.602686518497945e-08, 1.0721623948191945e-07], 'acc_std': [6.742962470925277e-05, 8.700719180424815e-05]}\n"
     ]
    }
   ],
   "source": [
    "import json\n",
    "with open('/Users/treygower/Downloads/metadata.json') as f:\n",
    "    data = json.load(f)\n",
    "    print(data)"
   ]
  }
 ],
 "metadata": {
  "kernelspec": {
   "display_name": "Python 3 (ipykernel)",
   "language": "python",
   "name": "python3"
  },
  "language_info": {
   "codemirror_mode": {
    "name": "ipython",
    "version": 3
   },
   "file_extension": ".py",
   "mimetype": "text/x-python",
   "name": "python",
   "nbconvert_exporter": "python",
   "pygments_lexer": "ipython3",
   "version": "3.11.7"
  }
 },
 "nbformat": 4,
 "nbformat_minor": 5
}
